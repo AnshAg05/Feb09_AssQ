{
 "cells": [
  {
   "cell_type": "markdown",
   "metadata": {},
   "source": [
    "Q1, Create a vehicle class with an init method having instance variables as name_of_vehicle, max_speed\n",
    "and average_of_vehicle."
   ]
  },
  {
   "cell_type": "code",
   "execution_count": 1,
   "metadata": {},
   "outputs": [
    {
     "name": "stdout",
     "output_type": "stream",
     "text": [
      "Vehicle: Car Model X, Max Speed: 200 km/h, Average Speed: 120 km/h\n"
     ]
    }
   ],
   "source": [
    "class Vehicle:\n",
    "    def __init__(self, name_of_vehicle, max_speed, average_speed):\n",
    "        self.name_of_vehicle = name_of_vehicle\n",
    "        self.max_speed = max_speed\n",
    "        self.average_speed = average_speed\n",
    "\n",
    "car = Vehicle(\"Car Model X\", 200, 120)\n",
    "print(f\"Vehicle: {car.name_of_vehicle}, Max Speed: {car.max_speed} km/h, Average Speed: {car.average_speed} km/h\")\n"
   ]
  },
  {
   "cell_type": "markdown",
   "metadata": {},
   "source": [
    "Q2. Create a child class car from the vehicle class created in Que 1, which will inherit the vehicle class.\n",
    "Create a method named seating_capacity which takes capacity as an argument and returns the name of\n",
    "the vehicle and its seating capacity."
   ]
  },
  {
   "cell_type": "code",
   "execution_count": 2,
   "metadata": {},
   "outputs": [
    {
     "name": "stdout",
     "output_type": "stream",
     "text": [
      "Vehicle: Car Model Y, Max Speed: 180 km/h, Average Speed: 100 km/h\n",
      "Car Model Y has a seating capacity of 5 people.\n"
     ]
    }
   ],
   "source": [
    "class Vehicle:\n",
    "    def __init__(self, name_of_vehicle, max_speed, average_speed):\n",
    "        self.name_of_vehicle = name_of_vehicle\n",
    "        self.max_speed = max_speed\n",
    "        self.average_speed = average_speed\n",
    "\n",
    "class Car(Vehicle):\n",
    "    def __init__(self, name_of_vehicle, max_speed, average_speed):\n",
    "        super().__init__(name_of_vehicle, max_speed, average_speed)\n",
    "\n",
    "    def seating_capacity(self, capacity):\n",
    "        return f\"{self.name_of_vehicle} has a seating capacity of {capacity} people.\"\n",
    "\n",
    "car_instance = Car(\"Car Model Y\", 180, 100)\n",
    "print(f\"Vehicle: {car_instance.name_of_vehicle}, Max Speed: {car_instance.max_speed} km/h, Average Speed: {car_instance.average_speed} km/h\")\n",
    "print(car_instance.seating_capacity(5))\n"
   ]
  },
  {
   "cell_type": "markdown",
   "metadata": {},
   "source": [
    "Q3. What is multiple inheritance? Write a python code to demonstrate multiple inheritance."
   ]
  },
  {
   "cell_type": "code",
   "execution_count": 3,
   "metadata": {},
   "outputs": [
    {
     "name": "stdout",
     "output_type": "stream",
     "text": [
      "Can fly\n",
      "Can swim\n"
     ]
    }
   ],
   "source": [
    "# In multiple inheritance, a subclass inherits from more than one superclass.\n",
    "# Example\n",
    "class Flyable:\n",
    "    def fly(self):\n",
    "        print(\"Can fly\")\n",
    "\n",
    "class Swimmable:\n",
    "    def swim(self):\n",
    "        print(\"Can swim\")\n",
    "\n",
    "class FlyingFish(Flyable, Swimmable):  # FlyingFish inherits from both Flyable and Swimmable\n",
    "    pass\n",
    "\n",
    "# Creating an instance of FlyingFish\n",
    "fish = FlyingFish()\n",
    "\n",
    "# Accessing methods from both base classes\n",
    "fish.fly()   \n",
    "fish.swim()  \n"
   ]
  },
  {
   "cell_type": "markdown",
   "metadata": {},
   "source": [
    "Q4. What are getter and setter in python? Create a class and create a getter and a setter method in this\n",
    "class."
   ]
  },
  {
   "cell_type": "markdown",
   "metadata": {},
   "source": [
    "\n",
    "In Python, getters and setters are methods used to access and modify the attributes of a class, providing a way to encapsulate the internal representation of an object. Getter methods retrieve the values of attributes, and setter methods set or modify the values of attributes."
   ]
  },
  {
   "cell_type": "code",
   "execution_count": 4,
   "metadata": {},
   "outputs": [
    {
     "name": "stdout",
     "output_type": "stream",
     "text": [
      "Current Value: 42\n",
      "Updated Value: 99\n",
      "Error: Please provide an integer value.\n"
     ]
    }
   ],
   "source": [
    "class ExampleClass:\n",
    "    def __init__(self, value):\n",
    "        self._value = value  # Note: Conventionally, a single leading underscore indicates a \"protected\" attribute\n",
    "\n",
    "    # Getter method\n",
    "    def get_value(self):\n",
    "        return self._value\n",
    "\n",
    "    # Setter method\n",
    "    def set_value(self, new_value):\n",
    "        if isinstance(new_value, int):\n",
    "            self._value = new_value\n",
    "        else:\n",
    "            print(\"Error: Please provide an integer value.\")\n",
    "\n",
    "# Example usage:\n",
    "obj = ExampleClass(42)\n",
    "\n",
    "# Using the getter\n",
    "current_value = obj.get_value()\n",
    "print(f\"Current Value: {current_value}\")\n",
    "\n",
    "# Using the setter\n",
    "obj.set_value(99)\n",
    "updated_value = obj.get_value()\n",
    "print(f\"Updated Value: {updated_value}\")\n",
    "\n",
    "# Trying to set a non-integer value\n",
    "obj.set_value(\"Invalid\")  # This will print an error message\n"
   ]
  },
  {
   "cell_type": "markdown",
   "metadata": {},
   "source": [
    "Q5.What is method overriding in python? Write a python code to demonstrate method overriding."
   ]
  },
  {
   "cell_type": "markdown",
   "metadata": {},
   "source": [
    "Method overriding in Python occurs when a subclass provides a specific implementation for a method that is already defined in its superclass. This allows the subclass to provide a specialized version of the method while maintaining the same method signature as the superclass.\n",
    "\n",
    "Here's an example to demonstrate method overriding in Python:"
   ]
  },
  {
   "cell_type": "code",
   "execution_count": 6,
   "metadata": {},
   "outputs": [
    {
     "name": "stdout",
     "output_type": "stream",
     "text": [
      "Animal speaks generic sound\n",
      "Dog barks\n",
      "Cat meows\n"
     ]
    }
   ],
   "source": [
    "class Animal:\n",
    "    def speak(self):\n",
    "        print(\"Animal speaks generic sound\")\n",
    "\n",
    "class Dog(Animal):\n",
    "    def speak(self):\n",
    "        print(\"Dog barks\")\n",
    "\n",
    "class Cat(Animal):\n",
    "    def speak(self):\n",
    "        print(\"Cat meows\")\n",
    "\n",
    "animal = Animal()\n",
    "animal.speak()  \n",
    "\n",
    "dog = Dog()\n",
    "dog.speak()     \n",
    "\n",
    "cat = Cat()\n",
    "cat.speak()    \n"
   ]
  },
  {
   "cell_type": "code",
   "execution_count": null,
   "metadata": {},
   "outputs": [],
   "source": []
  }
 ],
 "metadata": {
  "kernelspec": {
   "display_name": "Python 3",
   "language": "python",
   "name": "python3"
  },
  "language_info": {
   "codemirror_mode": {
    "name": "ipython",
    "version": 3
   },
   "file_extension": ".py",
   "mimetype": "text/x-python",
   "name": "python",
   "nbconvert_exporter": "python",
   "pygments_lexer": "ipython3",
   "version": "3.10.4"
  }
 },
 "nbformat": 4,
 "nbformat_minor": 2
}
